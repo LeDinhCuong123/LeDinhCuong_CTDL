{
 "cells": [
  {
   "cell_type": "code",
   "execution_count": 1,
   "id": "6116dd59",
   "metadata": {},
   "outputs": [
    {
     "name": "stdout",
     "output_type": "stream",
     "text": [
      "Hello world from Pychram and Python!\n",
      "3\n"
     ]
    }
   ],
   "source": [
    "array = [10, 3, 7, 5] #Tạo một danh sách lists\n",
    "print(array[1]) # In ra vị trí của phần tử thứ nhất"
   ]
  },
  {
   "cell_type": "code",
   "execution_count": 2,
   "id": "bb61a1d8",
   "metadata": {},
   "outputs": [
    {
     "name": "stdout",
     "output_type": "stream",
     "text": [
      "Hello world from Pychram and Python!\n",
      "[10, 3, 7, 5]\n"
     ]
    }
   ],
   "source": [
    "array = [10, 3, 7, 5]#Tạo một danh sách lists\n",
    "print(array[:])# In ra vị trí của tất cả phần tử"
   ]
  },
  {
   "cell_type": "code",
   "execution_count": 3,
   "id": "5d990610",
   "metadata": {},
   "outputs": [
    {
     "name": "stdout",
     "output_type": "stream",
     "text": [
      "Hello world from Pychram and Python!\n",
      "[10, 3]\n"
     ]
    }
   ],
   "source": [
    "array = [10, 3, 7, 5]#Tạo một danh sách lists\n",
    "print(array[0:2]) # In ra vị trí của hai phần tử đầu"
   ]
  },
  {
   "cell_type": "code",
   "execution_count": 4,
   "id": "4a7b8485",
   "metadata": {},
   "outputs": [
    {
     "name": "stdout",
     "output_type": "stream",
     "text": [
      "Hello world from Pychram and Python!\n",
      "[3, 7]\n"
     ]
    }
   ],
   "source": [
    "array = [10, 3, 7, 5]#Tạo một danh sách lists\n",
    "print(array[1:3])"
   ]
  },
  {
   "cell_type": "code",
   "execution_count": 5,
   "id": "c3c445fd",
   "metadata": {},
   "outputs": [
    {
     "name": "stdout",
     "output_type": "stream",
     "text": [
      "Hello world from Pychram and Python!\n",
      "[10, 3, 7]\n"
     ]
    }
   ],
   "source": [
    "array = [10, 3, 7, 5]#Tạo một danh sách lists\n",
    "print(array[:-1])"
   ]
  },
  {
   "cell_type": "code",
   "execution_count": 6,
   "id": "f117c30d",
   "metadata": {},
   "outputs": [
    {
     "name": "stdout",
     "output_type": "stream",
     "text": [
      "Hello world from Pychram and Python!\n",
      "[10, 3]\n"
     ]
    }
   ],
   "source": [
    "array = [10, 3, 7, 5]#Tạo một danh sách lists\n",
    "print(array[:-2])"
   ]
  },
  {
   "cell_type": "code",
   "execution_count": 7,
   "id": "a9bc1342",
   "metadata": {},
   "outputs": [
    {
     "name": "stdout",
     "output_type": "stream",
     "text": [
      "Hello world from Pychram and Python!\n",
      "[10.0, 3]\n"
     ]
    }
   ],
   "source": [
    "array = [10.0, 3, 'Adam', 5]#Tạo một danh sách lists\n",
    "print(array[:-2])"
   ]
  },
  {
   "cell_type": "code",
   "execution_count": 11,
   "id": "e2c96dca",
   "metadata": {},
   "outputs": [
    {
     "name": "stdout",
     "output_type": "stream",
     "text": [
      "55\n"
     ]
    }
   ],
   "source": [
    "array = [10,42,55,2,1,0]#Tạo một danh sách lists\n",
    "max = array[0]    #Tạo một biến max và gán biến max cho giá trị đầu tiên của dãy lists\n",
    "for num in array: # Quét các phần tử trong dãy lists\n",
    "    if num > max: # So sách nếu giá trị\n",
    "        max = num \n",
    "print(max) #In ra giá trị lớn nhất"
   ]
  },
  {
   "cell_type": "code",
   "execution_count": 1,
   "id": "02de00c6",
   "metadata": {},
   "outputs": [
    {
     "name": "stdout",
     "output_type": "stream",
     "text": [
      "0\n"
     ]
    }
   ],
   "source": [
    "array = [10,42,55,2,1,0] #Tạo một danh sách lists\n",
    "min = array[0] #Tạo một biến min và gán biến min cho giá trị đầu tiên của dãy lists\n",
    "for num in array: # Quét các phần tử trong dãy lists\n",
    "    if num < min: # So sách nếu giá trị\n",
    "        min = num\n",
    "print(min) #In ra giá trị nhỏ nhất"
   ]
  },
  {
   "cell_type": "code",
   "execution_count": 5,
   "id": "b4342d0b",
   "metadata": {},
   "outputs": [
    {
     "name": "stdout",
     "output_type": "stream",
     "text": [
      "[5, 4, 3, 2, 1]\n"
     ]
    }
   ],
   "source": [
    "def reverse (nums): #Định nghĩa một hàm có tên \"reverse\" nhận một tham số là một danh sách số (nums).\n",
    "    start_index=0 #Khởi tạo biến start_index với giá trị là 0, đại diện cho chỉ số bắt đầu của danh sách.\n",
    "    end_index=len(nums)-1 #Khởi tạo biến end_index với giá trị là len(nums)-1, đại diện cho chỉ số kết thúc của danh sách.\n",
    "                          \n",
    "    while end_index>start_index: #Bắt đầu một vòng lặp while với dk end_index > start_index.\n",
    "        nums[start_index],nums[end_index]=nums[end_index],nums[start_index]  \n",
    "        #Dòng lệnh này để đảo ngược giá trị của hai phần tử tại start_index và end_index thông qua sử dụng kỹ thuật tuple unpacking.\n",
    "        start_index=start_index+1 #Tăng giá trị của start_index lên 1 để di chuyển về bên trái trong danh sách.\n",
    "        end_index=end_index-1 #Giảm giá trị của end_index đi 1 để di chuyển về bên phải trong danh sách.    \n",
    "if __name__ == '__main__' : #Khi vòng lặp kết thúc, danh sách nums đã được đảo ngược hoàn toàn.\n",
    "    n=[1,2,3,4,5] #Trong khối mã if name == 'main':, tạo một danh sách n với các giá trị [1,2,3,4,5].\n",
    "    reverse (n) #Gọi hàm reverse với đối số là danh sách n để đảo ngược danh sách này.\n",
    "    print(n) #In ra danh sách n sau khi đã đảo ngược."
   ]
  },
  {
   "cell_type": "code",
   "execution_count": 10,
   "id": "a0e7afdb",
   "metadata": {},
   "outputs": [
    {
     "name": "stdout",
     "output_type": "stream",
     "text": [
      "Nhập một chuỗi: radar\n",
      "Chuỗi là palindrome.\n"
     ]
    }
   ],
   "source": [
    "def is_palindrome(string):\n",
    "    left = 0  # Khởi tạo con trỏ left trỏ đến đầu chuỗi\n",
    "    right = len(string) - 1  # Khởi tạo con trỏ right trỏ đến cuối chuỗi\n",
    "    \n",
    "    while left < right:  # Thực thi vòng lặp khi left < right\n",
    "        if string[left] != string[right]:  # So sánh ký tự tại vị trí left và right\n",
    "            return False  # Nếu ký tự không bằng nhau, trả về False\n",
    "        left += 1  # Tăng giá trị của left lên 1\n",
    "        right -= 1  # Giảm giá trị của right xuống 1\n",
    "    \n",
    "    return True  # Trả về True khi vòng lặp hoàn thành, tức là chuỗi là palindrome\n",
    "\n",
    "if __name__ == '__main__':\n",
    "    string = input(\"Nhập một chuỗi: \")\n",
    "    if is_palindrome(string):\n",
    "        print(\"Chuỗi là palindrome.\")\n",
    "    else:\n",
    "        print(\"Chuỗi không là palindrome.\")"
   ]
  },
  {
   "cell_type": "code",
   "execution_count": 13,
   "id": "ba7ff373",
   "metadata": {},
   "outputs": [
    {
     "name": "stdout",
     "output_type": "stream",
     "text": [
      "Nhập một số nguyên: 589\n",
      "Số đảo ngược:  985\n"
     ]
    }
   ],
   "source": [
    "def reverse_number(num):\n",
    "    reversed_num = 0  # Khởi tạo biến để lưu số sau khi đảo ngược\n",
    "    \n",
    "    while num != 0:  # Thực thi vòng lặp cho tới khi num bằng 0\n",
    "        temp = num % 10  # Lấy chữ số cuối cùng bằng phép chia lấy phần dư với 10\n",
    "        num = num // 10  # Cập nhật số ban đầu bằng phép chia nguyên cho 10\n",
    "        \n",
    "        reversed_num = reversed_num * 10 + temp  # Đảo ngược số bằng cách nhân reversed_num với 10 và cộng với chữ số temp\n",
    "    \n",
    "    return reversed_num  # Trả về số đã đảo ngược\n",
    "\n",
    "if __name__ == '__main__': #Khi vòng lặp kết thúc, danh sách nums đã được đảo ngược hoàn toàn.\n",
    "    num = int(input(\"Nhập một số nguyên: \")) \n",
    "    reversed_num = reverse_number(num)\n",
    "    print(\"Số đảo ngược: \", reversed_num)\n"
   ]
  },
  {
   "cell_type": "code",
   "execution_count": 14,
   "id": "008438e5",
   "metadata": {},
   "outputs": [
    {
     "name": "stdout",
     "output_type": "stream",
     "text": [
      "Nhập từ thứ nhất: restful\n",
      "Nhập từ thứ hai: fluster\n",
      "Hai từ là đảo chữ của nhau.\n"
     ]
    }
   ],
   "source": [
    "def is_anagram(word1, word2):\n",
    "    if len(word1) != len(word2):  # So sánh độ dài của hai từ\n",
    "        return False\n",
    "    \n",
    "    word1 = word1.lower()  # Chuyển đổi từ thành chữ thường\n",
    "    word2 = word2.lower()\n",
    "    \n",
    "    word1_chars = list(word1)  # Chuyển đổi từng từ thành danh sách các ký tự\n",
    "    word2_chars = list(word2)\n",
    "    \n",
    "    word1_chars.sort()  # Sắp xếp danh sách các ký tự của từ thứ nhất\n",
    "    word2_chars.sort()  # Sắp xếp danh sách các ký tự của từ thứ hai\n",
    "    \n",
    "    if word1_chars == word2_chars:  # So sánh danh sách các ký tự\n",
    "        return True\n",
    "    else:\n",
    "        return False\n",
    "\n",
    "if __name__ == '__main__':\n",
    "    word1 = input(\"Nhập từ thứ nhất: \")\n",
    "    word2 = input(\"Nhập từ thứ hai: \")\n",
    "    \n",
    "    if is_anagram(word1, word2):\n",
    "        print(\"Hai từ là đảo chữ của nhau.\")\n",
    "    else:\n",
    "        print(\"Hai từ không là đảo chữ của nhau.\")\n"
   ]
  },
  {
   "cell_type": "code",
   "execution_count": 17,
   "id": "4edbb1e8",
   "metadata": {},
   "outputs": [
    {
     "name": "stdout",
     "output_type": "stream",
     "text": [
      "Nhập mảng số nguyên: 1234512\n",
      "Không tìm thấy bản sao nào trong mảng.\n"
     ]
    }
   ],
   "source": [
    "def find_duplicates(arr):\n",
    "    max_val = max(arr)  # Tìm giá trị lớn nhất trong mảng ban đầu\n",
    "    count_array = [0] * (max_val + 1)  # Khởi tạo mảng đếm với kích thước là max_val + 1\n",
    "    \n",
    "    for num in arr:  # Duyệt qua mỗi phần tử trong mảng ban đầu\n",
    "        count_array[num] += 1  # Tăng giá trị tại vị trí chỉ số tương ứng trong mảng đếm\n",
    "    \n",
    "    duplicates = []\n",
    "    \n",
    "    for i in range(len(count_array)):  # Duyệt qua các phần tử trong mảng đếm\n",
    "        if count_array[i] > 1:  # Nếu giá trị lớn hơn 1, tìm thấy bản sao\n",
    "            duplicates.append((i, count_array[i]))  # Thêm vào danh sách bản sao\n",
    "    \n",
    "    if duplicates:\n",
    "        for num, count in duplicates:\n",
    "            print(f\"Số {num} xuất hiện {count} lần.\")  # In thông báo về bản sao\n",
    "    else:\n",
    "        print(\"Không tìm thấy bản sao nào trong mảng.\")\n",
    "\n",
    "if __name__ == '__main__':\n",
    "    arr = list(map(int, input(\"Nhập mảng số nguyên: \").split()))\n",
    "    find_duplicates(arr)\n"
   ]
  },
  {
   "cell_type": "code",
   "execution_count": 19,
   "id": "9a70178c",
   "metadata": {},
   "outputs": [],
   "source": [
    "class Node :\n",
    "    def __init__ (self):\n",
    "        self.data = data\n",
    "        self.nextNode =None\n",
    "class LinkedList :\n",
    "    \n",
    "    def __init__(self):\n",
    "        self.head =None\n",
    "        self.numOfNodes =0\n",
    "        \n",
    "    def insert_start(self,data):\n",
    "        \n",
    "        self.numONodes = self.numOfNodes +1\n",
    "        new_node =Node(data)\n",
    "        \n",
    "        if not self.head:\n",
    "            self.head = new_node\n",
    "        else :\n",
    "            new_node.nextNode = self.head\n",
    "            self.head = new_node\n",
    "    def insert_end(self,data):\n",
    "        \n",
    "        self.numOfNodes = self.numOfNodes+1\n",
    "        new_node = Node(data)\n",
    "        \n",
    "        actual_node = self.head\n",
    "        \n",
    "        while actual_node.nextNode is not None :\n",
    "            actual_node = actual_node.nextNode\n",
    "            \n",
    "        actual_node.nextNode = new_node\n"
   ]
  },
  {
   "cell_type": "code",
   "execution_count": null,
   "id": "bf14a050",
   "metadata": {},
   "outputs": [],
   "source": []
  }
 ],
 "metadata": {
  "kernelspec": {
   "display_name": "Python 3 (ipykernel)",
   "language": "python",
   "name": "python3"
  },
  "language_info": {
   "codemirror_mode": {
    "name": "ipython",
    "version": 3
   },
   "file_extension": ".py",
   "mimetype": "text/x-python",
   "name": "python",
   "nbconvert_exporter": "python",
   "pygments_lexer": "ipython3",
   "version": "3.11.4"
  }
 },
 "nbformat": 4,
 "nbformat_minor": 5
}
